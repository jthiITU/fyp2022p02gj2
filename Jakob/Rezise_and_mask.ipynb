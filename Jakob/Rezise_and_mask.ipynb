{
 "cells": [
  {
   "cell_type": "code",
   "execution_count": null,
   "id": "188b17f4",
   "metadata": {},
   "outputs": [],
   "source": [
    "#!pip install scikit-image"
   ]
  },
  {
   "cell_type": "code",
   "execution_count": 9,
   "id": "b9834041",
   "metadata": {},
   "outputs": [],
   "source": [
    "import matplotlib.pyplot as plt\n",
    "import numpy as np\n",
    "import pandas as pd\n",
    "from skimage.transform import rescale, resize, downscale_local_mean\n",
    "from skimage import img_as_ubyte,measure,color,morphology, io, exposure\n",
    "from sklearn.model_selection import train_test_split\n",
    "from sklearn.neighbors import KNeighborsClassifier\n",
    "from sklearn.metrics import accuracy_score, roc_curve, roc_auc_score, auc, confusion_matrix, precision_score, pairwise\n",
    "from imblearn.over_sampling import RandomOverSampler\n",
    "import os\n"
   ]
  },
  {
   "cell_type": "code",
   "execution_count": null,
   "id": "3e139a9c",
   "metadata": {},
   "outputs": [],
   "source": [
    "#Resize all images to 768x1024 and output to interim\n",
    "for filename in os.listdir(\"../data/ISIC_2017/ISIC-2017_Training_Part1_GroundTruth\"):\n",
    "    if 'DS' in filename: \n",
    "        continue\n",
    "    temp = plt.imread(\"../data/ISIC_2017/ISIC-2017_Training_Part1_GroundTruth/\"+filename)\n",
    "    temp_resized = resize(temp, (768, 1024),anti_aliasing=True)\n",
    "\n",
    "    new_filename = filename[:5]+\"re_\"+filename[5:]                 \n",
    "    io.imsave('../data/ISIC_2017/segmentations_re/'+new_filename, img_as_ubyte(temp_resized), check_contrast = False)"
   ]
  },
  {
   "cell_type": "code",
   "execution_count": 8,
   "id": "b6a97e2a",
   "metadata": {},
   "outputs": [],
   "source": [
    "#Create custom masks for all images (without using preexisting masks)\n",
    "#If it cannot create a better mask, then default to the provided mask\n",
    "images = os.listdir('../data/ISIC_2017/Images_re')\n",
    "\n",
    "#greyscaling function\n",
    "def rgb2gray(rgb):\n",
    "    return np.dot(rgb[...,:3], [0.2989, 0.5870, 0.1140])\n",
    "\n",
    "def create_masks():\n",
    "    for filename in['ISIC_re_0008552.jpg']: #for images in (folder with original images)\n",
    "        temp = plt.imread('../data/ISIC_2017/Images_re/'+filename) #Import original image\n",
    "        temp_seg = plt.imread('../data/ISIC_2017/segmentations_re/'+filename[:-4]+\"_segmentation.png\") #Import segmentation of that image\n",
    "\n",
    "        #Slightly increase contrast for better color detection \n",
    "        temp = exposure.rescale_intensity(temp) \n",
    "\n",
    "        #Keep green values, blue values and greyscale images in an attempt\n",
    "        #to make red colors as low as possible (since most of the lesions are red)\n",
    "        gray_1 = exposure.rescale_intensity(temp[:,:,1]) #green only\n",
    "        gray_2 = exposure.rescale_intensity(temp[:,:,2]) #blue only\n",
    "        gray_3 = exposure.rescale_intensity(rgb2gray(temp)) #all greyscaled\n",
    "\n",
    "        imlist = []\n",
    "        difflist = []\n",
    "        same_counter = 0\n",
    "        index = 0\n",
    "        for quant in np.arange(0.15,1,0.075): #Arbitrary quantiles for color histogram\n",
    "\n",
    "            #first mask with green only\n",
    "            mymask_1 = gray_1 < np.quantile(gray_1,quant) \n",
    "    \n",
    "            #second mask with blue only\n",
    "            mymask_2 = gray_2 < np.quantile(gray_2,quant) \n",
    "           \n",
    "            #third mask with greyscaled image\n",
    "            mymask_3 = gray_3 < np.quantile(gray_3,quant)\n",
    "            \n",
    "            #Add all masks and keep joint elements\n",
    "            better_mask = mymask_1.astype('int32')+mymask_2.astype('int32')+mymask_3.astype('int32')\n",
    "            fixed_mask = better_mask.copy() + temp_seg\n",
    "            \n",
    "            #make mask binary (or rather 0's and 1's) then make morphology corrections\n",
    "            fixed_mask[fixed_mask < 4] = 0\n",
    "            fixed_mask[fixed_mask == 4] = 1\n",
    "            fixed_mask = fixed_mask.astype(\"bool\")\n",
    "            #Morphology transformations to generalize mask\n",
    "            fixed_mask = morphology.binary_opening(fixed_mask,morphology.disk(2)) #removes hairs\n",
    "            fixed_mask = morphology.binary_closing(fixed_mask,morphology.disk(3)) #Closes small disconnected areas\n",
    "            #fixed_mask = morphology.binary_dilation(fixed_mask,morphology.disk(2)) #makes mask slightly bigger as it is usually a bit too small\n",
    "\n",
    "            fixed_mask = morphology.remove_small_holes(fixed_mask,100000) #Fills in holes and gaps in the mask\n",
    "            fixed_mask = morphology.remove_small_objects(fixed_mask,3000) #Removes small clusters outside the main masked area\n",
    "\n",
    "            #calculate size difference between current mask and original segmentation\n",
    "            diff = np.abs((np.sum(fixed_mask))/np.sum(temp_seg)) \n",
    "\n",
    "            #keep the fixed_mask if size is at least 5% different than the original segmentation\n",
    "            #mask cannot take 100% of the image size (768x1024)\n",
    "            if((diff > 1.05 or diff < 0.95) and np.sum(fixed_mask)!=786432 and np.sum(fixed_mask!=0)) :\n",
    "                imlist.append(fixed_mask)\n",
    "                difflist.append(np.abs(1-diff))\n",
    "                index+=1\n",
    "                same_counter = 0\n",
    "            else:\n",
    "                same_counter += 1\n",
    "\n",
    "\n",
    "            #break when best mask has been found\n",
    "            if index >=2:\n",
    "                if difflist[index-1] > difflist[index-2] or same_counter >= 3:\n",
    "                    break\n",
    "\n",
    "\n",
    "\n",
    "        #print image\n",
    "        mask = imlist[difflist.index(min(difflist))] if imlist else temp_seg\n",
    "        new_filename = filename[:-4]+\"_mask.jpg\"                \n",
    "        io.imsave('../data/ISIC_2017/custom_masks/'+new_filename, img_as_ubyte(mask), check_contrast = False)"
   ]
  },
  {
   "cell_type": "code",
   "execution_count": null,
   "id": "eaac68f8",
   "metadata": {},
   "outputs": [],
   "source": [
    "for filename in os.listdir(\"../data/raw/ISIC_2017/Images/ISIC-2017_Training_Data\"):\n",
    "    if \"superpixels\" in filename:\n",
    "        os.remove('../data/raw/ISIC_2017/Images/ISIC-2017_Training_Data/'+filename)"
   ]
  },
  {
   "cell_type": "code",
   "execution_count": 10,
   "id": "b6fae160",
   "metadata": {},
   "outputs": [],
   "source": [
    "create_masks()"
   ]
  },
  {
   "cell_type": "code",
   "execution_count": null,
   "id": "39b6dc58",
   "metadata": {},
   "outputs": [],
   "source": []
  }
 ],
 "metadata": {
  "kernelspec": {
   "display_name": "Python 3",
   "language": "python",
   "name": "python3"
  },
  "language_info": {
   "codemirror_mode": {
    "name": "ipython",
    "version": 3
   },
   "file_extension": ".py",
   "mimetype": "text/x-python",
   "name": "python",
   "nbconvert_exporter": "python",
   "pygments_lexer": "ipython3",
   "version": "3.8.8"
  }
 },
 "nbformat": 4,
 "nbformat_minor": 5
}
