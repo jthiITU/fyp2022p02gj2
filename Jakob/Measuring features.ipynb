{
 "cells": [
  {
   "cell_type": "code",
   "execution_count": null,
   "id": "188b17f4",
   "metadata": {
    "scrolled": true
   },
   "outputs": [],
   "source": [
    "#!pip install scikit-image\n",
    "#!pip install opencv-python"
   ]
  },
  {
   "cell_type": "code",
   "execution_count": null,
   "id": "b9834041",
   "metadata": {},
   "outputs": [],
   "source": [
    "import matplotlib.pyplot as plt\n",
    "import numpy as np\n",
    "import pandas as pd\n",
    "from skimage import morphology, io\n",
    "from skimage.transform import rescale, resize, downscale_local_mean\n",
    "\n",
    "import os\n",
    "\n",
    "from skimage.segmentation import slic, mark_boundaries\n",
    "from skimage import feature #for feature extraction\n",
    "\n",
    "import cv2\n",
    "\n",
    "import math\n",
    "from skimage import transform"
   ]
  },
  {
   "cell_type": "code",
   "execution_count": null,
   "id": "4421d8fb",
   "metadata": {
    "scrolled": true
   },
   "outputs": [],
   "source": [
    "images = os.listdir('../data/ISIC_2017/Images_re')\n",
    "segments = os.listdir('../data/ISIC_2017/custom_masks')\n",
    "#Greyscaling\n",
    "def rgb2gray(rgb):\n",
    "    return np.dot(rgb[...,:3], [0.2989, 0.5870, 0.1140])\n",
    "\n",
    "im = plt.imread('../data/ISIC_2017/Images_re/'+images[4])\n",
    "mask = plt.imread('../data/ISIC_2017/custom_masks/'+segments[4])\n",
    "\n",
    "gray = rgb2gray(im)\n",
    "plt.imshow(gray,cmap='gray')"
   ]
  },
  {
   "cell_type": "markdown",
   "id": "f5be6cbb",
   "metadata": {},
   "source": [
    "# Calculating features"
   ]
  },
  {
   "cell_type": "code",
   "execution_count": null,
   "id": "9d74e3ce",
   "metadata": {},
   "outputs": [],
   "source": [
    "### Area of lesion using segment\n",
    "# Total size of the image\n",
    "total = mask.shape[0] * mask.shape[1] \n",
    "\n",
    "# Size of mask only\n",
    "area = np.sum(mask)\n",
    "\n",
    "# As percentage\n",
    "print(area/total*100, \"%\")\n",
    "\n",
    "plt.imshow(mask, cmap='gray')"
   ]
  },
  {
   "cell_type": "code",
   "execution_count": null,
   "id": "b0f2befd",
   "metadata": {},
   "outputs": [],
   "source": [
    "### Calculation perimeter using a brush\n",
    "\n",
    "## Structural element, that we will use as a \"brush\" on our mask. The parameter is \"brush size\"\n",
    "brush = morphology.disk(3)\n",
    "\n",
    "# Use this \"brush\" to erode the image - eat away at the borders\n",
    "\n",
    "mask_eroded = morphology.binary_erosion(mask, brush)\n",
    "\n",
    "# Show side by side\n",
    "fig, axes = plt.subplots(nrows=1, ncols=2, figsize=(5, 3))\n",
    "axes[0].imshow(mask, cmap='gray')\n",
    "axes[1].imshow(mask_eroded, cmap='gray')\n",
    "fig.tight_layout()\n",
    "\n",
    "# Verify the new mask is smaller\n",
    "new_area = np.sum(mask_eroded)\n",
    "\n",
    "print(area)\n",
    "print(new_area)\n",
    "\n",
    "## As the new area is smaller, the perimeter is calculated by subtracting the og mask from the mask_eroded\n",
    "# Subtract the two masks from each other to get the border/perimeter\n",
    "# What is the length of this perimeter = how many 1s? \n",
    "\n",
    "image_perimeter = mask - mask_eroded\n",
    "perimeter = np.sum(image_perimeter)\n",
    "print(perimeter)\n",
    "\n",
    "plt.imshow(image_perimeter, cmap='gray')\n"
   ]
  },
  {
   "cell_type": "raw",
   "id": "4ef4144b",
   "metadata": {},
   "source": [
    "# Divide the pixels into segments (segment = piece of continuous color in the image)\n",
    "segments_slic = slic(im, n_segments=250, compactness=10, sigma=1, start_label=1)\n",
    "\n",
    "fig, ax = plt.subplots(2, 1, figsize=(10, 10), sharex=True, sharey=True)\n",
    "\n",
    "ax[0].imshow(im)\n",
    "ax[0].set_title(\"Original\")\n",
    "\n",
    "ax[1].imshow(mark_boundaries(im, segments_slic))\n",
    "\n",
    "ax[1].set_title('SLIC')\n",
    "\n",
    "for a in ax.ravel():\n",
    "    a.set_axis_off()\n",
    "\n",
    "plt.tight_layout()\n",
    "plt.show()"
   ]
  },
  {
   "cell_type": "code",
   "execution_count": null,
   "id": "a61b0500",
   "metadata": {},
   "outputs": [],
   "source": [
    "### Creating a version showing the lesion on top of the mask\n",
    "\n",
    "img1 = im.copy()\n",
    "img1[mask==0] = 0\n",
    "\n",
    "plt.imshow(img1)"
   ]
  },
  {
   "cell_type": "code",
   "execution_count": null,
   "id": "71dd2cd5",
   "metadata": {},
   "outputs": [],
   "source": [
    "## We can make a zoomed in version using the mask later if this code is too complicated (also, plagarism?)\n",
    "\n",
    "# https://stackoverflow.com/questions/59191179/finding-coordinates-of-corners-of-the-maskrectengular-shape-from-mask-matrixb\n",
    "\n",
    "array = mask.copy()\n",
    "H,W = array.shape\n",
    "\n",
    "left_edges = np.where(array.any(axis=1),array.argmax(axis=1),W+1)\n",
    "flip_lr = cv2.flip(array,1) #1 horz vert 0\n",
    "right_edges = W - np.where(flip_lr.any(axis=1),flip_lr.argmax(axis=1),W+1)\n",
    "top_edges = np.where(array.any(axis=0),array.argmax(axis=0),H+1)\n",
    "flip_ud = cv2.flip(array,0) #1 horz vert 0\n",
    "bottom_edges = H - np.where(flip_ud.any(axis=0),flip_ud.argmax(axis=0),H+1)\n",
    "\n",
    "leftmost = left_edges.min()\n",
    "rightmost = right_edges.max()\n",
    "topmost = top_edges.min()\n",
    "bottommost = bottom_edges.max()"
   ]
  },
  {
   "cell_type": "code",
   "execution_count": null,
   "id": "f43d0442",
   "metadata": {},
   "outputs": [],
   "source": [
    "im2 = img1[topmost:bottommost,leftmost:rightmost,:]\n",
    "mask2 = mask[topmost:bottommost,leftmost:rightmost]\n",
    "plt.imshow(im2)"
   ]
  },
  {
   "cell_type": "code",
   "execution_count": null,
   "id": "d534d0c2",
   "metadata": {},
   "outputs": [],
   "source": [
    "### Asymmetry\n",
    "## if rotated lesion and lesion are overlapped and there exists a high value of gray, then the lesion is assymetric\n",
    "\n",
    "#mask2 = morphology.disk(5)\n",
    "\n",
    "h, w = map(int, mask2.shape)\n",
    "left = mask2[0:, 0:math.floor(w/2)]\n",
    "right = mask2[0:, math.ceil(w/2):]\n",
    "rot_im = transform.rotate(right, 180) ##check if it rotates clockwise or counter clockwise\n",
    "new_im = rot_im + left\n",
    "new_im[new_im == 2] = 0\n",
    "\n",
    "h2, w2 = map(int, new_im.shape)\n",
    "top = new_im[0: math.floor(h2/2), 0:]\n",
    "bottom = new_im[math.ceil(h2/2):, 0:]\n",
    "rot_im2 = transform.rotate(top, 270)\n",
    "new_im2 = rot_im2 + bottom\n",
    "new_im2[new_im2 == 2] = 0\n",
    "\n",
    "plt.imshow(new_im2, cmap='gray')\n",
    "asymmetry = np.sum(new_im2)/(area)\n",
    "print(asymmetry)\n",
    "\n",
    "# number of grey pixels depends on the size of the lesion as well\n",
    "# so even if the lesion is small, it would still have a lot of gray pixels\n",
    "# so how would this work as a feature?"
   ]
  },
  {
   "cell_type": "code",
   "execution_count": null,
   "id": "f08ae141",
   "metadata": {},
   "outputs": [],
   "source": [
    "### Measuring shape with area and perimeter\n",
    "## Compactness = l^2/(4pi*A) --> l = perimeter, A = area\n",
    "\n",
    "c = (perimeter)**2/(4*math.pi*area)\n",
    "print(c)\n",
    "\n",
    "## the minimal the value of c (aka the close it is to 1), the more symmetric (circular) it is\n",
    "# cannot be 1 perfectly due to pixels\n",
    "\n",
    "# how is compactness different from symmetry\n",
    "## why check assymetry? a hexagon is pretty symmetrical"
   ]
  },
  {
   "cell_type": "code",
   "execution_count": null,
   "id": "c94a3ad5",
   "metadata": {},
   "outputs": [],
   "source": [
    "### Measuring \"average\" color\n",
    "\n",
    "# average luminance --> ?\n",
    "# grayscale image and calculate average --> but what does this tell us? how is this feature valuable?\n",
    "\n",
    "#calculating color features\n",
    "colors_of_lesion = im2[mask2==1]\n",
    "x_R, x_G, x_B = np.mean(colors_of_lesion, axis = 0)\n",
    "print(x_R, x_G, x_B)\n",
    "\n",
    "avg_color = (x_R + x_G + x_B)/3\n",
    "print(avg_color)"
   ]
  },
  {
   "cell_type": "code",
   "execution_count": null,
   "id": "d358c770",
   "metadata": {
    "scrolled": true
   },
   "outputs": [],
   "source": [
    "Perimeter = []\n",
    "Area = []\n",
    "Avg_color = []\n",
    "Compactness = []\n",
    "Asymmetry = []\n",
    "Asymmetry_02 = []\n",
    "Red = []\n",
    "Green = []\n",
    "Blue = []\n",
    "\n",
    "for i in range(len(images)):\n",
    "    im = plt.imread('../data/ISIC_2017/Images_re/'+images[i])\n",
    "    mask = (plt.imread('../data/ISIC_2017/custom_masks/'+segments[i])).copy()\n",
    "    \n",
    "    mask[0:3,:], mask[-4:-1,:], mask[:,0:3], mask[:,-4:-1] = False,False,False,False\n",
    "    \n",
    "    total = mask.shape[0] * mask.shape[1] \n",
    "    area = np.sum(mask)\n",
    "    \n",
    "    brush = morphology.disk(3)\n",
    "    \n",
    "    mask_eroded = morphology.binary_erosion(mask, brush)\n",
    "    \n",
    "    image_perimeter = mask - mask_eroded\n",
    "    perimeter = np.sum(image_perimeter)\n",
    "    \n",
    "    img1 = im.copy()\n",
    "    img1[mask==0] = 0\n",
    "    \n",
    "    c = (perimeter)**2/(4*math.pi*area)\n",
    "    \n",
    "    array = mask.copy()\n",
    "    H,W = array.shape\n",
    "\n",
    "    left_edges = np.where(array.any(axis=1),array.argmax(axis=1),W+1)\n",
    "    flip_lr = cv2.flip(array,1)\n",
    "    right_edges = W - np.where(flip_lr.any(axis=1),flip_lr.argmax(axis=1),W+1)\n",
    "    top_edges = np.where(array.any(axis=0),array.argmax(axis=0),H+1)\n",
    "    flip_ud = cv2.flip(array,0)\n",
    "    bottom_edges = H - np.where(flip_ud.any(axis=0),flip_ud.argmax(axis=0),H+1)\n",
    "\n",
    "    leftmost = left_edges.min()\n",
    "    rightmost = right_edges.max()\n",
    "    topmost = top_edges.min()\n",
    "    bottommost = bottom_edges.max()\n",
    "    \n",
    "    im2 = img1[topmost:bottommost,leftmost:rightmost,:]\n",
    "    mask2 = mask[topmost:bottommost,leftmost:rightmost]\n",
    "\n",
    "    h, w = map(int, mask2.shape)\n",
    "    left = mask2[0:, 0:math.floor(w/2)]\n",
    "    right = mask2[0:, math.ceil(w/2):]\n",
    "    try:\n",
    "        rot_im = transform.rotate(right, 180)  \n",
    "    except:\n",
    "        print(images[i])\n",
    "        break\n",
    "        \n",
    "    new_im = rot_im + left\n",
    "    new_im[new_im == 2] = 0\n",
    "\n",
    "    h2, w2 = map(int, new_im.shape)\n",
    "    top = new_im[0: math.floor(h2/2), 0:]\n",
    "    bottom = new_im[math.ceil(h2/2):, 0:]\n",
    "    rot_im2 = transform.rotate(top, 270)\n",
    "    new_im2 = rot_im2 + bottom\n",
    "    new_im2[new_im2 == 2] = 0\n",
    "    \n",
    "    asymmetry = np.sum(new_im2)/area\n",
    "    \n",
    "\n",
    "    colors_of_lesion = im2[mask2==1]\n",
    "    x_R, x_G, x_B = np.mean(colors_of_lesion, axis = 0)\n",
    "\n",
    "    avg_color = (x_R + x_G + x_B)/3\n",
    "    \n",
    "    Perimeter.append(perimeter)\n",
    "    Area.append(area)\n",
    "    Avg_color.append(avg_color)\n",
    "    Compactness.append(c)\n",
    "    Red.append(x_R)\n",
    "    Green.append(x_G)\n",
    "    Blue.append(x_B)\n",
    "    Asymmetry.append(asymmetry)"
   ]
  },
  {
   "cell_type": "code",
   "execution_count": null,
   "id": "65ca2c77",
   "metadata": {
    "scrolled": true
   },
   "outputs": [],
   "source": [
    "features = pd.read_csv(\"../data/ISIC_2017/ISIC-2017_Training_Part3_GroundTruth.csv\")\n",
    "age_and_sex = pd.read_csv(\"../data/ISIC_2017/ISIC-2017_Training_Data_metadata.csv\")\n",
    "\n",
    "features[\"Perimeter\"] = Perimeter\n",
    "features[\"Area\"] = Area\n",
    "features[\"Compactness\"] = Compactness\n",
    "features[\"Asymmetry\"] = Asymmetry\n",
    "features[\"Red\"] = Red\n",
    "features[\"Green\"] = Green\n",
    "features[\"Blue\"] = Blue\n",
    "features[\"Average Color\"] = Avg_color\n",
    "features[\"Age\"] = [int(a) if a != \"unknown\" else None for a in age_and_sex[\"age_approximate\"]]\n",
    "features[\"Sex\"] = [0 if s == \"male\" else 1 for s in age_and_sex[\"sex\"]]\n",
    "features"
   ]
  },
  {
   "cell_type": "code",
   "execution_count": null,
   "id": "12a73374",
   "metadata": {},
   "outputs": [],
   "source": [
    "features.to_csv(\"../data/ISIC_2017/features.csv\", index = False)"
   ]
  },
  {
   "cell_type": "code",
   "execution_count": null,
   "id": "2d2ca1c8",
   "metadata": {},
   "outputs": [],
   "source": [
    "norm_features = features.copy()\n",
    "for column in norm_features[['Compactness','Asymmetry','Average Color','Age']]:\n",
    "    norm_features[column] = norm_features[column] /norm_features[column].abs().max()\n",
    "    norm_features.columns = norm_features.columns.str.replace(column, 'Norm_'+column)\n",
    "norm_features.to_csv(\"../data/ISIC_2017/norm_features.csv\", index = False)"
   ]
  },
  {
   "cell_type": "code",
   "execution_count": null,
   "id": "d4787f4b",
   "metadata": {},
   "outputs": [],
   "source": [
    "norm_features"
   ]
  },
  {
   "cell_type": "code",
   "execution_count": null,
   "id": "f6b459d6",
   "metadata": {},
   "outputs": [],
   "source": [
    "\n"
   ]
  }
 ],
 "metadata": {
  "kernelspec": {
   "display_name": "Python 3",
   "language": "python",
   "name": "python3"
  },
  "language_info": {
   "codemirror_mode": {
    "name": "ipython",
    "version": 3
   },
   "file_extension": ".py",
   "mimetype": "text/x-python",
   "name": "python",
   "nbconvert_exporter": "python",
   "pygments_lexer": "ipython3",
   "version": "3.8.8"
  }
 },
 "nbformat": 4,
 "nbformat_minor": 5
}
