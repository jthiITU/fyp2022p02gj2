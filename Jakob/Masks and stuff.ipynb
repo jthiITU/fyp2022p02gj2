{
 "cells": [
  {
   "cell_type": "code",
   "execution_count": null,
   "id": "188b17f4",
   "metadata": {},
   "outputs": [],
   "source": [
    "!pip install scikit-image"
   ]
  },
  {
   "cell_type": "code",
   "execution_count": null,
   "id": "b9834041",
   "metadata": {},
   "outputs": [],
   "source": [
    "import matplotlib.pyplot as plt\n",
    "import numpy as np\n",
    "import pandas as pd\n",
    "from skimage import morphology, io\n",
    "from skimage.transform import rescale, resize, downscale_local_mean\n",
    "\n",
    "import os"
   ]
  },
  {
   "cell_type": "code",
   "execution_count": null,
   "id": "3e139a9c",
   "metadata": {},
   "outputs": [],
   "source": [
    "#Resize all images to 768x1024 and output to interim\n",
    "#for filename in os.listdir('../data/raw/example_image'):\n",
    "   #if 'DS' in filename:\n",
    "        #continue\n",
    "    #temp = plt.imread('../data/raw/example_image/'+filename)\n",
    "    #temp_resized = resize(temp, (768, 1024),\n",
    "                       #anti_aliasing=True)\n",
    "\n",
    "    #new_filename = filename[:5]+\"re_\"+filename[5:]                 \n",
    "    #io.imsave('../data/interim'+new_filename,temp_resized)\n"
   ]
  },
  {
   "cell_type": "code",
   "execution_count": null,
   "id": "05158acb",
   "metadata": {},
   "outputs": [],
   "source": [
    "im = plt.imread('../data/raw/example_image/ISIC_0003462.jpg')\n",
    "mask=plt.imread('../data/raw/example_segmentation/ISIC_0003462_segmentation.png')"
   ]
  },
  {
   "cell_type": "code",
   "execution_count": null,
   "id": "f063eb63",
   "metadata": {},
   "outputs": [],
   "source": [
    "#Total size of the image\n",
    "total = mask.shape[0] * mask.shape[1] \n",
    "\n",
    "#Size of mask only\n",
    "area = np.sum(mask)\n",
    "\n",
    "#As percentage\n",
    "print(area/total*100, \"%\")\n",
    "\n",
    "plt.imshow(mask, cmap='gray')"
   ]
  },
  {
   "cell_type": "code",
   "execution_count": null,
   "id": "1dd6ee09",
   "metadata": {},
   "outputs": [],
   "source": [
    "# Altea got the perimeter <3 <3\n",
    "\n",
    "\n",
    "#Structural element, that we will use as a \"brush\" on our mask. The parameter is \"brush size\"\n",
    "struct_el = morphology.disk(2)\n",
    "\n",
    "print(struct_el)\n",
    "\n",
    "\n",
    "\n",
    "# Use this \"brush\" to erode the image - eat away at the borders\n",
    "\n",
    "mask_eroded = morphology.binary_erosion(mask, struct_el)\n",
    "\n",
    "# Show side by side (depending on brush size, you might not see a difference visually)\n",
    "fig, axes = plt.subplots(nrows=1, ncols=2, figsize=(5, 3))\n",
    "axes[0].imshow(mask, cmap='gray')\n",
    "axes[1].imshow(mask_eroded, cmap='gray')\n",
    "fig.tight_layout()\n",
    "\n",
    "# Verify the new mask is smaller\n",
    "new_area= np.sum(mask_eroded)\n",
    "\n",
    "print(area)\n",
    "print(new_area)"
   ]
  },
  {
   "cell_type": "code",
   "execution_count": null,
   "id": "23f29e3a",
   "metadata": {},
   "outputs": [],
   "source": [
    "# Subtract the two masks from each other to get the border/perimeter\n",
    "\n",
    "image_perimeter = mask - mask_eroded\n",
    "\n",
    "plt.imshow(image_perimeter, cmap='gray') #Depending on the size of the \"brush\" it might be difficult to see on the screen\n",
    "\n",
    "#What is the length of this perimeter = how many 1s? \n",
    "print(np.sum(image_perimeter))"
   ]
  },
  {
   "cell_type": "code",
   "execution_count": null,
   "id": "4421d8fb",
   "metadata": {},
   "outputs": [],
   "source": [
    "#Greyscaling\n",
    "def rgb2gray(rgb):\n",
    "    return np.dot(rgb[...,:3], [0.2989, 0.5870, 0.1140])\n",
    "\n",
    "gray = rgb2gray(im)\n",
    "plt.imshow(gray, cmap='gray')\n",
    "blue = im[:,:,0:1]\n",
    "plt.imshow(blue)"
   ]
  },
  {
   "cell_type": "code",
   "execution_count": null,
   "id": "acc517d9",
   "metadata": {},
   "outputs": [],
   "source": [
    "#gray2 = gray[0:1500,:]\n",
    "#plt.imshow(gray2, cmap='gray')\n",
    "\n",
    "#mask2 = mask[0:1500,:]\n",
    "#plt.imshow(mask2)"
   ]
  },
  {
   "cell_type": "code",
   "execution_count": null,
   "id": "24b65b71",
   "metadata": {},
   "outputs": [],
   "source": [
    "mymask = gray < np.quantile(gray,0.1) \n",
    "plt.imshow(mymask, cmap='gray')\n"
   ]
  },
  {
   "cell_type": "code",
   "execution_count": null,
   "id": "4b366574",
   "metadata": {},
   "outputs": [],
   "source": [
    "from skimage.morphology import opening\n",
    "\n",
    "struct_el = morphology.disk(5)\n",
    "opened = opening(mymask, struct_el)\n",
    "plt.imshow(opened)"
   ]
  },
  {
   "cell_type": "code",
   "execution_count": null,
   "id": "df1cbf4b",
   "metadata": {},
   "outputs": [],
   "source": [
    "filenames = os.listdir('../data/interim/resized_images')\n",
    "def crop(filename, left, right,upper, lower):\n",
    "    to_crop = plt.imread('../data/interim/resized_images/'+filename)\n",
    "    return to_crop[upper:lower,left:right,:]\n",
    "    "
   ]
  },
  {
   "cell_type": "code",
   "execution_count": null,
   "id": "c4ac3202",
   "metadata": {},
   "outputs": [],
   "source": [
    "fil = filenames[28]\n",
    "temp = plt.imread('../data/interim/resized_images/'+fil)\n",
    "plt.imshow(temp)\n",
    "print(temp.shape)\n"
   ]
  },
  {
   "cell_type": "code",
   "execution_count": null,
   "id": "70dd0085",
   "metadata": {},
   "outputs": [],
   "source": [
    "cropped = crop(fil,400,1024,100,490) \n",
    "plt.imshow(cropped)"
   ]
  },
  {
   "cell_type": "code",
   "execution_count": null,
   "id": "f43d0442",
   "metadata": {},
   "outputs": [],
   "source": [
    "for fil in filenames[23:28]:\n",
    "    io.imsave('../data/interim/re_cropped_images/'+fil[:4]+\"_rc_\"+fil[8:],plt.imread('../data/interim/resized_images/'+fil))"
   ]
  },
  {
   "cell_type": "code",
   "execution_count": null,
   "id": "dac4f6f5",
   "metadata": {},
   "outputs": [],
   "source": [
    "len(os.listdir('../data/interim/re_cropped_images'))"
   ]
  },
  {
   "cell_type": "code",
   "execution_count": null,
   "id": "c3c00e28",
   "metadata": {},
   "outputs": [],
   "source": []
  }
 ],
 "metadata": {
  "kernelspec": {
   "display_name": "Python 3",
   "language": "python",
   "name": "python3"
  },
  "language_info": {
   "codemirror_mode": {
    "name": "ipython",
    "version": 3
   },
   "file_extension": ".py",
   "mimetype": "text/x-python",
   "name": "python",
   "nbconvert_exporter": "python",
   "pygments_lexer": "ipython3",
   "version": "3.8.8"
  }
 },
 "nbformat": 4,
 "nbformat_minor": 5
}
