{
 "cells": [
  {
   "cell_type": "code",
   "execution_count": 49,
   "id": "b0d632ad",
   "metadata": {},
   "outputs": [],
   "source": [
    "import pandas as pd\n",
    "import numpy as np\n",
    "from sklearn.model_selection import train_test_split\n",
    "from sklearn.neighbors import KNeighborsClassifier\n",
    "from sklearn.tree import DecisionTreeClassifier\n",
    "from sklearn.svm import SVC\n",
    "from sklearn.metrics import accuracy_score, roc_curve, roc_auc_score, auc\n",
    "\n",
    "import matplotlib.pyplot as plt\n",
    "import math"
   ]
  },
  {
   "cell_type": "code",
   "execution_count": 4,
   "id": "6a90429d",
   "metadata": {},
   "outputs": [
    {
     "data": {
      "text/html": [
       "<div>\n",
       "<style scoped>\n",
       "    .dataframe tbody tr th:only-of-type {\n",
       "        vertical-align: middle;\n",
       "    }\n",
       "\n",
       "    .dataframe tbody tr th {\n",
       "        vertical-align: top;\n",
       "    }\n",
       "\n",
       "    .dataframe thead th {\n",
       "        text-align: right;\n",
       "    }\n",
       "</style>\n",
       "<table border=\"1\" class=\"dataframe\">\n",
       "  <thead>\n",
       "    <tr style=\"text-align: right;\">\n",
       "      <th></th>\n",
       "      <th>melanoma</th>\n",
       "      <th>Norm_Compactness</th>\n",
       "      <th>Norm_Asymmetry</th>\n",
       "      <th>Norm_Average Color</th>\n",
       "    </tr>\n",
       "  </thead>\n",
       "  <tbody>\n",
       "    <tr>\n",
       "      <th>0</th>\n",
       "      <td>0.0</td>\n",
       "      <td>0.476510</td>\n",
       "      <td>0.383144</td>\n",
       "      <td>0.576044</td>\n",
       "    </tr>\n",
       "    <tr>\n",
       "      <th>1</th>\n",
       "      <td>0.0</td>\n",
       "      <td>0.397999</td>\n",
       "      <td>0.313298</td>\n",
       "      <td>0.350968</td>\n",
       "    </tr>\n",
       "    <tr>\n",
       "      <th>2</th>\n",
       "      <td>0.0</td>\n",
       "      <td>0.401858</td>\n",
       "      <td>0.183044</td>\n",
       "      <td>0.737918</td>\n",
       "    </tr>\n",
       "    <tr>\n",
       "      <th>3</th>\n",
       "      <td>0.0</td>\n",
       "      <td>0.319373</td>\n",
       "      <td>0.185313</td>\n",
       "      <td>0.648577</td>\n",
       "    </tr>\n",
       "    <tr>\n",
       "      <th>4</th>\n",
       "      <td>0.0</td>\n",
       "      <td>0.369017</td>\n",
       "      <td>0.519001</td>\n",
       "      <td>0.575675</td>\n",
       "    </tr>\n",
       "  </tbody>\n",
       "</table>\n",
       "</div>"
      ],
      "text/plain": [
       "   melanoma  Norm_Compactness  Norm_Asymmetry  Norm_Average Color\n",
       "0       0.0          0.476510        0.383144            0.576044\n",
       "1       0.0          0.397999        0.313298            0.350968\n",
       "2       0.0          0.401858        0.183044            0.737918\n",
       "3       0.0          0.319373        0.185313            0.648577\n",
       "4       0.0          0.369017        0.519001            0.575675"
      ]
     },
     "execution_count": 4,
     "metadata": {},
     "output_type": "execute_result"
    }
   ],
   "source": [
    "# importing the features normalised and dropping all the non relevant columns to have a clean start\n",
    "df = pd.read_csv(\"../data/interim/norm_features.csv\")\n",
    "df = df.drop([\"seborrheic_keratosis\", \"Perimeter\", \"Area\", \"image_id\", \"Red\", \"Green\", \"Blue\"], axis=1)\n",
    "\n",
    "df.head()"
   ]
  },
  {
   "cell_type": "code",
   "execution_count": 31,
   "id": "dac5c4a4",
   "metadata": {},
   "outputs": [],
   "source": [
    "# Split the data before feature selection\n",
    "from sklearn.model_selection import train_test_split\n",
    "\n",
    "#copying the dataframe. it should be with .copy() but it works like this too\n",
    "df2 = df.copy()\n",
    "\n",
    "\n",
    "# Some noisy features\n",
    "noise = np.random.RandomState(42).uniform(0, 0.1, size=(df2.shape[0], 20))\n",
    "\n",
    "# Add the noisy data to the informative features\n",
    "# this is not something that makes sense to me. we add the noise to then ignore it in the next cell\n",
    "X = np.hstack((df2[['Norm_Compactness', 'Norm_Asymmetry', \"Norm_Average Color\"]], noise))\n",
    "y = df2['melanoma']\n",
    "\n",
    "# Split dataset to select feature and evaluate the classifier\n",
    "# the splitting is done by splitting the data into data to be used for training and validation (development of the model --> dev), and data to be used for testing. \n",
    "X_dev, X_test, y_dev, y_test = train_test_split(\n",
    "        X, y, stratify=y, random_state=0)\n",
    "\n",
    "# the development data is split into training and validation.\n",
    "X_train, X_val, y_train, y_val = train_test_split(\n",
    "        X_dev, y_dev, stratify=y_dev)"
   ]
  },
  {
   "cell_type": "code",
   "execution_count": 83,
   "id": "8bbd10fb",
   "metadata": {},
   "outputs": [
    {
     "name": "stdout",
     "output_type": "stream",
     "text": [
      "0.659090909090909\n",
      "0.659090909090909\n"
     ]
    },
    {
     "data": {
      "text/plain": [
       "array([0., 1., 1., 1., 0., 0., 0., 0., 0., 0., 0., 1., 0., 0., 0., 0., 0.,\n",
       "       0., 1., 0., 0., 0., 1., 1., 0., 0., 0., 0.])"
      ]
     },
     "execution_count": 83,
     "metadata": {},
     "output_type": "execute_result"
    }
   ],
   "source": [
    "# Train a classifier\n",
    "X_train = X_train[:,0:3] # Take only wanted features\n",
    "roc_dict = {}\n",
    "knn_list = [None]\n",
    "\n",
    "neigh = int(math.sqrt(len(X_train2)))\n",
    "neigh\n",
    "# the range is to the neigh, as some sources suggest to use the square root of the number of datapoints, and it does seem as a fair estimation to decrease error\n",
    "for i in range(1, neigh+1):\n",
    "    #train the model with different values of the neighbors\n",
    "    knn1 = KNeighborsClassifier(n_neighbors=i) \n",
    "    knn1trained = knn1.fit(X_train, y_train)\n",
    "    \n",
    "    #Select the same features as before\n",
    "    X_val = X_val[:, 0:3]\n",
    "    y_val_knn1 = knn1trained.predict(X_val)\n",
    "    \n",
    "    #adding the accuracy value to the dictionary to assess which is the best\n",
    "    # can be calculated with another calculation, but it would be time consuming to do both to show they are identical\n",
    "    roc_test = roc_auc_score(y_val, y_val_knn1)\n",
    "    roc_dict[i] = roc_test\n",
    "    knn_list.append(knn1trained)\n",
    "\n",
    "\n",
    "# getting all the values with the highest accuracy score\n",
    "max_keys = [key for key, value in roc_dict.items() if value == max(roc_dict.values())]\n",
    "\n",
    "# we use the biggest of the neighbors values as the neighbor to use for the classification, as a lower value is not recomended \n",
    "print(roc_dict[max_keys[-1]])\n",
    "\n",
    "y_val_knn1 = knn_list[max_keys[-1]].predict(X_val)\n",
    "print(roc_auc_score(y_val, y_val_knn1))\n",
    "\n",
    "y_val_knn1"
   ]
  },
  {
   "cell_type": "code",
   "execution_count": 82,
   "id": "4eec4950",
   "metadata": {},
   "outputs": [
    {
     "name": "stdout",
     "output_type": "stream",
     "text": [
      "0.6742424242424243\n",
      "{1: 0.590909090909091, 2: 0.6742424242424243, 3: 0.590909090909091, 4: 0.590909090909091, 5: 0.5681818181818182, 6: 0.6742424242424243, 7: 0.5681818181818182, 8: 0.6742424242424243, 9: 0.5681818181818182}\n"
     ]
    }
   ],
   "source": [
    "# Train a classifier\n",
    "X_train = X_train[:,0:3] # Take only wanted features\n",
    "roc_dict = {}\n",
    "\n",
    "\n",
    "neigh = int(math.sqrt(len(X_train2)))\n",
    "neigh\n",
    "# the range is to the neigh, as some sources suggest to use the square root of the number of datapoints, and it does seem as a fair estimation to decrease error\n",
    "for i in range(1, neigh+1):\n",
    "    #train the model with different values of the neighbors\n",
    "    tree1 = DecisionTreeClassifier() \n",
    "    tree1trained = tree1.fit(X_train, y_train)\n",
    "    \n",
    "    #Select the same features as before\n",
    "    X_val = X_val[:, 0:3]\n",
    "    y_val_tree1 = tree1trained.predict(X_val)\n",
    "    \n",
    "    #adding the accuracy value to the dictionary to assess which is the best\n",
    "    # can be calculated with another calculation, but it would be time consuming to do both to show they are identical\n",
    "    roc_test = roc_auc_score(y_val, y_val_tree1)\n",
    "    roc_dict[i] = roc_test\n",
    "\n",
    "\n",
    "# getting all the values with the highest accuracy score\n",
    "max_keys = [key for key, value in roc_dict.items() if value == max(roc_dict.values())]\n",
    "\n",
    "# we use the biggest of the neighbors values as the neighbor to use for the classification, as a lower value is not recomended \n",
    "print(roc_dict[max_keys[-1]])\n",
    "print(roc_dict)"
   ]
  },
  {
   "cell_type": "code",
   "execution_count": 44,
   "id": "4f09cbec",
   "metadata": {},
   "outputs": [
    {
     "name": "stdout",
     "output_type": "stream",
     "text": [
      "0.5\n",
      "{1: 0.5, 2: 0.5, 3: 0.5, 4: 0.5, 5: 0.5, 6: 0.5, 7: 0.5, 8: 0.5, 9: 0.5}\n"
     ]
    }
   ],
   "source": [
    "# Train a classifier\n",
    "X_train = X_train[:,0:3] # Take only wanted features\n",
    "roc_dict = {}\n",
    "\n",
    "\n",
    "neigh = int(math.sqrt(len(X_train2)))\n",
    "neigh\n",
    "# the range is to the neigh, as some sources suggest to use the square root of the number of datapoints, and it does seem as a fair estimation to decrease error\n",
    "for i in range(1, neigh+1):\n",
    "    #train the model with different values of the neighbors\n",
    "    svc1 = SVC() \n",
    "    svc1trained = svc1.fit(X_train, y_train)\n",
    "    \n",
    "    #Select the same features as before\n",
    "    X_val = X_val[:, 0:3]\n",
    "    y_val_svc1 = svc1trained.predict(X_val)\n",
    "    \n",
    "    #adding the accuracy value to the dictionary to assess which is the best\n",
    "    # can be calculated with another calculation, but it would be time consuming to do both to show they are identical\n",
    "    roc_test = roc_auc_score(y_val, y_val_svc1)\n",
    "    roc_dict[i] = roc_test\n",
    "\n",
    "\n",
    "# getting all the values with the highest accuracy score\n",
    "max_keys = [key for key, value in roc_dict.items() if value == max(roc_dict.values())]\n",
    "\n",
    "# we use the biggest of the neighbors values as the neighbor to use for the classification, as a lower value is not recomended \n",
    "print(roc_dict[max_keys[-1]])\n",
    "print(roc_dict)"
   ]
  },
  {
   "cell_type": "code",
   "execution_count": 81,
   "id": "c74f1c71",
   "metadata": {},
   "outputs": [
    {
     "data": {
      "image/png": "[encoded data removed]",
      "text/plain": [
       "<Figure size 432x288 with 1 Axes>"
      ]
     },
     "metadata": {
      "needs_background": "light"
     },
     "output_type": "display_data"
    },
    {
     "name": "stdout",
     "output_type": "stream",
     "text": [
      "[[0.77777778 0.22222222]\n",
      " [0.88888889 0.11111111]\n",
      " [0.33333333 0.66666667]\n",
      " [0.88888889 0.11111111]\n",
      " [0.88888889 0.11111111]\n",
      " [0.66666667 0.33333333]\n",
      " [0.88888889 0.11111111]\n",
      " [0.66666667 0.33333333]\n",
      " [0.44444444 0.55555556]\n",
      " [0.88888889 0.11111111]\n",
      " [0.88888889 0.11111111]\n",
      " [0.44444444 0.55555556]\n",
      " [1.         0.        ]\n",
      " [0.77777778 0.22222222]\n",
      " [0.77777778 0.22222222]\n",
      " [1.         0.        ]\n",
      " [0.88888889 0.11111111]\n",
      " [0.77777778 0.22222222]\n",
      " [0.77777778 0.22222222]\n",
      " [0.66666667 0.33333333]\n",
      " [0.77777778 0.22222222]\n",
      " [0.66666667 0.33333333]\n",
      " [0.66666667 0.33333333]\n",
      " [0.77777778 0.22222222]\n",
      " [0.66666667 0.33333333]\n",
      " [0.88888889 0.11111111]\n",
      " [0.77777778 0.22222222]\n",
      " [0.77777778 0.22222222]]\n"
     ]
    }
   ],
   "source": [
    "y_scores = knn1.predict_proba(X_val)\n",
    "fpr, tpr, threshold = roc_curve(y_val, y_scores[:, 1])\n",
    "roc_auc = auc(fpr, tpr)\n",
    "\n",
    "plt.title('Receiver Operating Characteristic')\n",
    "plt.plot(fpr, tpr, 'b', label = 'AUC = %0.2f' % roc_auc)\n",
    "plt.legend(loc = 'lower right')\n",
    "plt.plot([0, 1], [0, 1],'r--')\n",
    "plt.xlim([0, 1])\n",
    "plt.ylim([0, 1])\n",
    "plt.ylabel('True Positive Rate')\n",
    "plt.xlabel('False Positive Rate')\n",
    "plt.title('ROC Curve of kNN')\n",
    "plt.show()\n",
    "print(y_scores)"
   ]
  },
  {
   "cell_type": "code",
   "execution_count": null,
   "id": "e86bd543",
   "metadata": {},
   "outputs": [],
   "source": []
  }
 ],
 "metadata": {
  "kernelspec": {
   "display_name": "Python 3",
   "language": "python",
   "name": "python3"
  },
  "language_info": {
   "codemirror_mode": {
    "name": "ipython",
    "version": 3
   },
   "file_extension": ".py",
   "mimetype": "text/x-python",
   "name": "python",
   "nbconvert_exporter": "python",
   "pygments_lexer": "ipython3",
   "version": "3.8.8"
  }
 },
 "nbformat": 4,
 "nbformat_minor": 5
}
