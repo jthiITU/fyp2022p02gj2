{
 "cells": [
  {
   "cell_type": "code",
   "execution_count": 6,
   "id": "b0d632ad",
   "metadata": {},
   "outputs": [],
   "source": [
    "import pandas as pd\n",
    "import numpy as np\n",
    "from sklearn.model_selection import train_test_split\n",
    "from sklearn.neighbors import KNeighborsClassifier\n",
    "from sklearn.metrics import accuracy_score\n",
    "import matplotlib.pyplot as plt"
   ]
  },
  {
   "cell_type": "code",
   "execution_count": 4,
   "id": "6a90429d",
   "metadata": {},
   "outputs": [],
   "source": [
    "features = pd.read_csv(\"../data/interim/norm_features.csv\")"
   ]
  },
  {
   "cell_type": "code",
   "execution_count": 21,
   "id": "568e539d",
   "metadata": {},
   "outputs": [
    {
     "data": {
      "text/html": [
       "<div>\n",
       "<style scoped>\n",
       "    .dataframe tbody tr th:only-of-type {\n",
       "        vertical-align: middle;\n",
       "    }\n",
       "\n",
       "    .dataframe tbody tr th {\n",
       "        vertical-align: top;\n",
       "    }\n",
       "\n",
       "    .dataframe thead th {\n",
       "        text-align: right;\n",
       "    }\n",
       "</style>\n",
       "<table border=\"1\" class=\"dataframe\">\n",
       "  <thead>\n",
       "    <tr style=\"text-align: right;\">\n",
       "      <th></th>\n",
       "      <th>image_id</th>\n",
       "      <th>melanoma</th>\n",
       "      <th>seborrheic_keratosis</th>\n",
       "      <th>Perimeter</th>\n",
       "      <th>Area</th>\n",
       "      <th>Average Color</th>\n",
       "      <th>Compactness</th>\n",
       "      <th>Red</th>\n",
       "      <th>Green</th>\n",
       "      <th>Blue</th>\n",
       "    </tr>\n",
       "  </thead>\n",
       "  <tbody>\n",
       "    <tr>\n",
       "      <th>0</th>\n",
       "      <td>ISIC_0001769</td>\n",
       "      <td>0.0</td>\n",
       "      <td>0.0</td>\n",
       "      <td>1402.898071</td>\n",
       "      <td>27884.892578</td>\n",
       "      <td>108.769944</td>\n",
       "      <td>5.616599</td>\n",
       "      <td>161.351912</td>\n",
       "      <td>98.294626</td>\n",
       "      <td>66.663295</td>\n",
       "    </tr>\n",
       "    <tr>\n",
       "      <th>1</th>\n",
       "      <td>ISIC_0001852</td>\n",
       "      <td>0.0</td>\n",
       "      <td>0.0</td>\n",
       "      <td>996.160828</td>\n",
       "      <td>16833.162109</td>\n",
       "      <td>66.270510</td>\n",
       "      <td>4.691194</td>\n",
       "      <td>114.963288</td>\n",
       "      <td>52.560685</td>\n",
       "      <td>31.287556</td>\n",
       "    </tr>\n",
       "    <tr>\n",
       "      <th>2</th>\n",
       "      <td>ISIC_0001871</td>\n",
       "      <td>0.0</td>\n",
       "      <td>0.0</td>\n",
       "      <td>1254.980469</td>\n",
       "      <td>26459.980469</td>\n",
       "      <td>139.335222</td>\n",
       "      <td>4.736686</td>\n",
       "      <td>182.040832</td>\n",
       "      <td>134.189761</td>\n",
       "      <td>101.775074</td>\n",
       "    </tr>\n",
       "    <tr>\n",
       "      <th>3</th>\n",
       "      <td>ISIC_0003462</td>\n",
       "      <td>0.0</td>\n",
       "      <td>0.0</td>\n",
       "      <td>993.333435</td>\n",
       "      <td>20858.333984</td>\n",
       "      <td>122.465820</td>\n",
       "      <td>3.764442</td>\n",
       "      <td>165.370006</td>\n",
       "      <td>115.710884</td>\n",
       "      <td>86.316572</td>\n",
       "    </tr>\n",
       "  </tbody>\n",
       "</table>\n",
       "</div>"
      ],
      "text/plain": [
       "       image_id  melanoma  seborrheic_keratosis    Perimeter          Area  \\\n",
       "0  ISIC_0001769       0.0                   0.0  1402.898071  27884.892578   \n",
       "1  ISIC_0001852       0.0                   0.0   996.160828  16833.162109   \n",
       "2  ISIC_0001871       0.0                   0.0  1254.980469  26459.980469   \n",
       "3  ISIC_0003462       0.0                   0.0   993.333435  20858.333984   \n",
       "\n",
       "   Average Color  Compactness         Red       Green        Blue  \n",
       "0     108.769944     5.616599  161.351912   98.294626   66.663295  \n",
       "1      66.270510     4.691194  114.963288   52.560685   31.287556  \n",
       "2     139.335222     4.736686  182.040832  134.189761  101.775074  \n",
       "3     122.465820     3.764442  165.370006  115.710884   86.316572  "
      ]
     },
     "execution_count": 21,
     "metadata": {},
     "output_type": "execute_result"
    }
   ],
   "source": []
  },
  {
   "cell_type": "code",
   "execution_count": null,
   "id": "dac5c4a4",
   "metadata": {},
   "outputs": [],
   "source": [
    "# your solution to exercise 1 here\n",
    "data = np.loadtxt(\"iris.data\")\n",
    "X = data[:,:4]\n",
    "Y = data[:,4]\n",
    "print(X.shape)\n",
    "print(Y.shape)\n",
    "# your solution to exercise 2 here\n",
    "X_train, X_test, Y_train, Y_test = train_test_split(X,Y,test_size = 0.2, random_state = 4)\n",
    "\n",
    "print(X_train.shape)\n",
    "print(X_test[0])\n",
    "# your solution to exercise 3 here\n",
    "def make_knn_prediction(k):\n",
    "    knn = KNeighborsClassifier(k)\n",
    "    knn.fit(X_train,Y_train)\n",
    "    return knn.predict(X_test)\n",
    "\n",
    "print(make_knn_prediction(4))\n",
    "# Your solution to exercise 4 here\n",
    "performance_list = [accuracy_score(Y_test,make_knn_prediction(k)) for k in range(1,71)]\n",
    "\n",
    "    fig = plt.figure(figsize=(5, 3))\n",
    "    axes = fig.add_axes([0,0,1,1])\n",
    "    axes.plot(range(1,71),performance_list);\n",
    "    axes.set_ylim(0.85,1);\n",
    "    axes.set_title(\"Iris Classification Accuracy of KNN for Different Values of k\")\n",
    "    axes.set_ylabel(\"Test Accuracy\")\n",
    "    axes.set_xlabel(\"Value of k\")\n",
    "    plt.grid(True,alpha=0.5)"
   ]
  },
  {
   "cell_type": "code",
   "execution_count": 34,
   "id": "e6168d46",
   "metadata": {},
   "outputs": [
    {
     "name": "stdout",
     "output_type": "stream",
     "text": [
      "0.76\n"
     ]
    }
   ],
   "source": [
    "feature_names = features.columns\n",
    "X = features[feature_names[5:7]]\n",
    "Y = features['melanoma']\n",
    "X_train, X_test, Y_train, Y_test = train_test_split(X,Y,test_size = 0.33, random_state = 4)\n",
    "knn = KNeighborsClassifier()\n",
    "knn.fit(X_train,Y_train)\n",
    "print(accuracy_score(Y_test,knn.predict(X_test)))"
   ]
  },
  {
   "cell_type": "code",
   "execution_count": null,
   "id": "78e8d628",
   "metadata": {},
   "outputs": [],
   "source": []
  }
 ],
 "metadata": {
  "kernelspec": {
   "display_name": "Python 3",
   "language": "python",
   "name": "python3"
  },
  "language_info": {
   "codemirror_mode": {
    "name": "ipython",
    "version": 3
   },
   "file_extension": ".py",
   "mimetype": "text/x-python",
   "name": "python",
   "nbconvert_exporter": "python",
   "pygments_lexer": "ipython3",
   "version": "3.8.8"
  }
 },
 "nbformat": 4,
 "nbformat_minor": 5
}
