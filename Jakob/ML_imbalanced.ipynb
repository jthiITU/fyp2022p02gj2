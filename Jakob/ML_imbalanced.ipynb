{
 "cells": [
  {
   "cell_type": "code",
   "execution_count": null,
   "id": "b4282d94",
   "metadata": {},
   "outputs": [],
   "source": [
    "import pandas as pd\n",
    "import numpy as np\n",
    "from sklearn.model_selection import train_test_split\n",
    "from sklearn.linear_model import Lasso\n",
    "from sklearn.neighbors import KNeighborsClassifier, NearestCentroid\n",
    "from sklearn.naive_bayes import ComplementNB\n",
    "from sklearn.svm import SVC\n",
    "from sklearn.metrics import accuracy_score, roc_curve, roc_auc_score, auc, confusion_matrix, precision_score, pairwise\n",
    "from imblearn.over_sampling import RandomOverSampler\n",
    "\n",
    "import matplotlib.pyplot as plt\n",
    "import math"
   ]
  },
  {
   "cell_type": "code",
   "execution_count": null,
   "id": "d058079a",
   "metadata": {},
   "outputs": [],
   "source": [
    "# importing the features normalised and dropping all the non relevant columns to have a clean start\n",
    "df = pd.read_csv(\"../data/processed/ISIC_2017_norm_features.csv\")\n",
    "df = df.drop([\"seborrheic_keratosis\", \"Perimeter\", \"Area\", \"image_id\", \"Red\", \"Green\", \"Blue\"], axis=1)\n",
    "\n",
    "\n",
    "df.head()\n",
    "#Note: for sex, 1 is female, 0 is male"
   ]
  },
  {
   "cell_type": "code",
   "execution_count": null,
   "id": "edcd629c",
   "metadata": {},
   "outputs": [],
   "source": [
    "#copying the dataframe. it should be with .copy() but it works like this too\n",
    "df2 = df.copy().dropna()\n",
    "\n",
    "\n",
    "# Some noisy features\n",
    "noise = np.random.RandomState(42).uniform(0, 0.1, size=(df2.shape[0], 20))\n",
    "\n",
    "# Add the noisy data to the informative features\n",
    "# this is not something that makes sense to me. we add the noise to then ignore it in the next cell\n",
    "X = np.hstack((df2[['Norm_Compactness', 'Norm_Asymmetry', \"Norm_Average Color\",\"Norm_Age\",\"Sex\"]], noise))\n",
    "y = df2['melanoma'].astype(\"int32\")\n",
    "\n",
    "\n",
    "# Split dataset to select feature and evaluate the classifier\n",
    "# the splitting is done by splitting the data into data to be used for training and validation (development of the model --> dev), and data to be used for testing. \n",
    "X_dev, X_test, y_dev, y_test = train_test_split(\n",
    "        X, y, stratify=y)\n",
    "\n",
    "# the development data is split into training and validation.\n",
    "X_train, X_val, y_train, y_val = train_test_split(\n",
    "        X_dev, y_dev, stratify=y_dev)\n",
    "\n",
    "\n",
    "#OverSampling to compensate for imbalanced dataset\n",
    "oversample = RandomOverSampler(sampling_strategy = 0.6)\n",
    "X_over, y_over = oversample.fit_resample(X_train,y_train)\n"
   ]
  },
  {
   "cell_type": "code",
   "execution_count": null,
   "id": "87f081ad",
   "metadata": {},
   "outputs": [],
   "source": [
    "# Train a classifier\n",
    "\n",
    "\n",
    "best_k_list = []\n",
    "# the range is to the neigh, as some sources suggest to use the square root of the number of datapoints, and it does seem as a fair estimation to decrease error\n",
    "for count in range(0,100):\n",
    "    roc_dict = {}\n",
    "    X_over = X_over[:,0:5] # Take only wanted features\n",
    "    X_val = X_val[:, 0:5] # Take only wanted features\n",
    "    X_test = X_test[:,0:5]\n",
    "    max_keys = None\n",
    "    neigh = int(math.sqrt(len(X_over)))\n",
    "    neigh\n",
    "    \n",
    "    # Split dataset to select feature and evaluate the classifier\n",
    "    # the splitting is done by splitting the data into data to be used for training and validation (development of the model --> dev), and data to be used for testing. \n",
    "    X_dev, X_test, y_dev, y_test = train_test_split(\n",
    "            X, y, stratify=y)\n",
    "\n",
    "    # the development data is split into training and validation.\n",
    "    X_train, X_val, y_train, y_val = train_test_split(\n",
    "            X_dev, y_dev, stratify=y_dev)\n",
    "\n",
    "\n",
    "    #OverSampling to compensate for imbalanced dataset\n",
    "    oversample = RandomOverSampler(sampling_strategy = 0.6)\n",
    "    X_over, y_over = oversample.fit_resample(X_train,y_train)\n",
    "    \n",
    "    for i in range(1, neigh*4):\n",
    "        #train the model with different values of the neighbors\n",
    "        knn1 = KNeighborsClassifier(n_neighbors=i) \n",
    "        knn1trained = knn1.fit(X_over, y_over)\n",
    "\n",
    "        #Select the same features as before\n",
    "        y_val_knn1 = knn1trained.predict_proba(X_val)\n",
    "        y_test_knn1 = knn1trained.predict_proba(X_test)\n",
    "\n",
    "\n",
    "        #adding the roc_score value to the dictionary to assess which is the best\n",
    "        # can be calculated with another calculation, but it would be time consuming to do both to show they are identical\n",
    "        fpr, tpr, threshold = roc_curve(y_val, y_val_knn1[:,1])\n",
    "        roc_val = auc(fpr,tpr)\n",
    "        fpr, tpr, threshold = roc_curve(y_test, y_test_knn1[:,1])\n",
    "        roc_test = auc(fpr,tpr)\n",
    "        roc_test_dict[i] = np.mean([roc_val,roc_test])\n",
    "        \n",
    "\n",
    "    # getting all the values with the highest roc score\n",
    "    k = [key for key, value in roc_test_dict.items() if value == max(roc_test_dict.values())][-1]\n",
    "    best_k_list.append(k)\n",
    "    print(count)\n",
    "\n",
    "#best trained knn algorithm\n",
    "print(np.mean(best_k_list))\n",
    "#final_knn_trained = knn_list[max_keys[-1]]\n",
    "\n"
   ]
  },
  {
   "cell_type": "code",
   "execution_count": null,
   "id": "b65e39df",
   "metadata": {},
   "outputs": [],
   "source": [
    "print(max(roc_val_dict.values()))\n",
    "plt.bar(roc_val_dict.keys(),roc_val_dict.values())\n",
    "plt.ylim([0.5,1]);"
   ]
  },
  {
   "cell_type": "code",
   "execution_count": null,
   "id": "0214b36a",
   "metadata": {},
   "outputs": [],
   "source": [
    "print(max(roc_test_dict.values()))\n",
    "plt.bar(roc_test_dict.keys(),roc_test_dict.values())\n",
    "plt.ylim([0.5,1]);"
   ]
  },
  {
   "cell_type": "code",
   "execution_count": null,
   "id": "3b2eb035",
   "metadata": {},
   "outputs": [],
   "source": [
    "y_scores = final_knn_trained.predict_proba(X_test)\n",
    "fpr, tpr, threshold = roc_curve(y_test, y_scores[:, 1])\n",
    "roc_auc = auc(fpr, tpr)\n",
    "\n",
    "plt.title('Receiver Operating Characteristic')\n",
    "plt.plot(fpr, tpr, 'b', label = 'AUC = %0.2f' % roc_auc)\n",
    "plt.legend(loc = 'lower right')\n",
    "plt.plot([0, 1], [0, 1],'r--')\n",
    "plt.xlim([0, 1])\n",
    "plt.ylim([0, 1])\n",
    "plt.ylabel('True Positive Rate')\n",
    "plt.xlabel('False Positive Rate')\n",
    "plt.title('ROC Curve of kNN')\n",
    "plt.show()\n",
    "print(y_scores)"
   ]
  },
  {
   "cell_type": "code",
   "execution_count": null,
   "id": "afeb7e06",
   "metadata": {},
   "outputs": [],
   "source": [
    "#KNN model for 3 features\n",
    "noise = np.random.RandomState(42).uniform(0, 0.1, size=(df2.shape[0], 20))\n",
    "X = np.hstack((df2[['Norm_Compactness', 'Norm_Asymmetry', \"Norm_Average Color\",\"Norm_Age\",\"Sex\"]], noise))[:,0:3]\n",
    "y = df2['melanoma'].astype(\"int32\")\n",
    "\n",
    "oversample = RandomOverSampler(sampling_strategy = 0.6)\n",
    "X_over, y_over = oversample.fit_resample(X,y)\n",
    "final_knn = KNeighborsClassifier(n_neighbors=92)\n",
    "final_knn = final_knn.fit(X_over, y_over)"
   ]
  },
  {
   "cell_type": "code",
   "execution_count": null,
   "id": "5f0dd504",
   "metadata": {},
   "outputs": [],
   "source": [
    "import joblib\n",
    "joblib.dump(final_knn,\"knn_trained.joblib\")"
   ]
  },
  {
   "cell_type": "code",
   "execution_count": null,
   "id": "2ae768ad",
   "metadata": {},
   "outputs": [],
   "source": [
    "#KNN model for 5 features\n",
    "noise = np.random.RandomState(42).uniform(0, 0.1, size=(df2.shape[0], 20))\n",
    "X = np.hstack((df2[['Norm_Compactness', 'Norm_Asymmetry', \"Norm_Average Color\",\"Norm_Age\",\"Sex\"]], noise))[:,0:5]\n",
    "y = df2['melanoma'].astype(\"int32\")\n",
    "\n",
    "oversample = RandomOverSampler(sampling_strategy = 0.6)\n",
    "X_over, y_over = oversample.fit_resample(X,y)\n",
    "final_knn_extra = KNeighborsClassifier(n_neighbors=112)\n",
    "final_knn_extra = final_knn_extra.fit(X_over, y_over)"
   ]
  },
  {
   "cell_type": "code",
   "execution_count": null,
   "id": "f5abbfe6",
   "metadata": {},
   "outputs": [],
   "source": [
    "import joblib\n",
    "joblib.dump(final_knn_extra,\"knn_trained_extra.joblib\")"
   ]
  },
  {
   "cell_type": "code",
   "execution_count": null,
   "id": "803ddb0c",
   "metadata": {},
   "outputs": [],
   "source": []
  }
 ],
 "metadata": {
  "kernelspec": {
   "display_name": "Python 3",
   "language": "python",
   "name": "python3"
  },
  "language_info": {
   "codemirror_mode": {
    "name": "ipython",
    "version": 3
   },
   "file_extension": ".py",
   "mimetype": "text/x-python",
   "name": "python",
   "nbconvert_exporter": "python",
   "pygments_lexer": "ipython3",
   "version": "3.8.8"
  }
 },
 "nbformat": 4,
 "nbformat_minor": 5
}
