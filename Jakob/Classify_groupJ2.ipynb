{
 "cells": [
  {
   "cell_type": "code",
   "execution_count": null,
   "id": "b8d41542",
   "metadata": {},
   "outputs": [],
   "source": [
    "import matplotlib.pyplot as plt\n",
    "import numpy as np\n",
    "import pandas as pd\n",
    "from skimage import morphology, io\n",
    "from skimage.transform import rescale, resize, downscale_local_mean\n",
    "from skimage.segmentation import slic, mark_boundaries\n",
    "from skimage import feature, img_as_ubyte,measure,color,morphology, io, exposure\n",
    "from skimage.transform import rescale, resize, downscale_local_mean\n",
    "from skimage import img_as_ubyte,measure,color,morphology, io, exposure\n",
    "from sklearn.model_selection import train_test_split\n",
    "from sklearn.neighbors import KNeighborsClassifier\n",
    "from sklearn.metrics import accuracy_score, roc_curve, roc_auc_score, auc, confusion_matrix, precision_score, pairwise\n",
    "from imblearn.over_sampling import RandomOverSampler\n",
    "import os\n",
    "import cv2\n",
    "import math\n",
    "import joblib\n",
    "\n",
    "#Specify image filepath here\n",
    "image_filepath = \"\"\n",
    "segmentation_filepath = \"\"\n",
    "\n",
    "#import images\n",
    "im = plt.imread(image_filepath)\n",
    "seg = plt.imread(segmentation_filepath)"
   ]
  }
 ],
 "metadata": {
  "kernelspec": {
   "display_name": "Python 3",
   "language": "python",
   "name": "python3"
  },
  "language_info": {
   "codemirror_mode": {
    "name": "ipython",
    "version": 3
   },
   "file_extension": ".py",
   "mimetype": "text/x-python",
   "name": "python",
   "nbconvert_exporter": "python",
   "pygments_lexer": "ipython3",
   "version": "3.8.8"
  }
 },
 "nbformat": 4,
 "nbformat_minor": 5
}
