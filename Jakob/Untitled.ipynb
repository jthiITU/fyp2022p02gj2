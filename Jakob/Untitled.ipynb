{
 "cells": [
  {
   "cell_type": "code",
   "execution_count": null,
   "id": "7702fd88",
   "metadata": {},
   "outputs": [],
   "source": [
    "!pip install scikit-image"
   ]
  },
  {
   "cell_type": "code",
   "execution_count": null,
   "id": "1fa8fca1",
   "metadata": {},
   "outputs": [],
   "source": [
    "import matplotlib.pyplot as plt\n",
    "import numpy as np\n",
    "import pandas as pd\n",
    "from skimage import morphology, io\n",
    "from skimage.transform import rescale, resize, downscale_local_mean\n",
    "\n",
    "import os"
   ]
  },
  {
   "cell_type": "code",
   "execution_count": null,
   "id": "e5b0bb4b",
   "metadata": {},
   "outputs": [],
   "source": [
    "#Resize all images to 768x1024 and output to interim\n",
    "#for filename in os.listdir('../data/raw/example_image'):\n",
    "   #if 'DS' in filename:\n",
    "        #continue\n",
    "    #temp = plt.imread('../data/raw/example_image/'+filename)\n",
    "    #temp_resized = resize(temp, (768, 1024),\n",
    "                       #anti_aliasing=True)\n",
    "\n",
    "    #new_filename = filename[:5]+\"re_\"+filename[5:]                 \n",
    "    #io.imsave('../data/interim'+new_filename,temp_resized)\n"
   ]
  },
  {
   "cell_type": "code",
   "execution_count": null,
   "id": "6e228b68",
   "metadata": {},
   "outputs": [],
   "source": [
    "im = plt.imread('../data/raw/example_image/ISIC_0001769.jpg')\n",
    "mask=plt.imread('../data/raw/example_segmentation/ISIC_0001769_segmentation.png')"
   ]
  },
  {
   "cell_type": "code",
   "execution_count": null,
   "id": "1e0889d6",
   "metadata": {},
   "outputs": [],
   "source": [
    "#Total size of the image\n",
    "total = mask.shape[0] * mask.shape[1] \n",
    "\n",
    "#Size of mask only\n",
    "area = np.sum(mask)\n",
    "\n",
    "#As percentage\n",
    "print(area/total*100, \"%\")\n",
    "\n",
    "plt.imshow(mask, cmap='gray')"
   ]
  },
  {
   "cell_type": "code",
   "execution_count": null,
   "id": "d71bc4ae",
   "metadata": {},
   "outputs": [],
   "source": [
    "# Altea got the perimeter <3 <3\n",
    "\n",
    "\n",
    "#Structural element, that we will use as a \"brush\" on our mask. The parameter is \"brush size\"\n",
    "struct_el = morphology.disk(2)\n",
    "\n",
    "print(struct_el)\n",
    "\n",
    "\n",
    "\n",
    "# Use this \"brush\" to erode the image - eat away at the borders\n",
    "\n",
    "mask_eroded = morphology.binary_erosion(mask, struct_el)\n",
    "\n",
    "# Show side by side (depending on brush size, you might not see a difference visually)\n",
    "fig, axes = plt.subplots(nrows=1, ncols=2, figsize=(5, 3))\n",
    "axes[0].imshow(mask, cmap='gray')\n",
    "axes[1].imshow(mask_eroded, cmap='gray')\n",
    "fig.tight_layout()\n",
    "\n",
    "# Verify the new mask is smaller\n",
    "new_area= np.sum(mask_eroded)\n",
    "\n",
    "print(area)\n",
    "print(new_area)"
   ]
  },
  {
   "cell_type": "code",
   "execution_count": null,
   "id": "dc7f3a38",
   "metadata": {},
   "outputs": [],
   "source": [
    "# Subtract the two masks from each other to get the border/perimeter\n",
    "\n",
    "image_perimeter = mask - mask_eroded\n",
    "\n",
    "plt.imshow(image_perimeter, cmap='gray') #Depending on the size of the \"brush\" it might be difficult to see on the screen\n",
    "\n",
    "#What is the length of this perimeter = how many 1s? \n",
    "print(np.sum(image_perimeter))"
   ]
  },
  {
   "cell_type": "code",
   "execution_count": null,
   "id": "610cbb7a",
   "metadata": {},
   "outputs": [],
   "source": [
    "#Greyscaling\n",
    "def rgb2gray(rgb):\n",
    "    return np.dot(rgb[...,:3], [0.2989, 0.5870, 0.1140])\n",
    "\n",
    "gray = rgb2gray(im)\n",
    "plt.imshow(gray, cmap='gray')"
   ]
  },
  {
   "cell_type": "code",
   "execution_count": null,
   "id": "feac4c7f",
   "metadata": {},
   "outputs": [],
   "source": []
  }
 ],
 "metadata": {
  "kernelspec": {
   "display_name": "Python 3",
   "language": "python",
   "name": "python3"
  },
  "language_info": {
   "codemirror_mode": {
    "name": "ipython",
    "version": 3
   },
   "file_extension": ".py",
   "mimetype": "text/x-python",
   "name": "python",
   "nbconvert_exporter": "python",
   "pygments_lexer": "ipython3",
   "version": "3.8.8"
  }
 },
 "nbformat": 4,
 "nbformat_minor": 5
}
